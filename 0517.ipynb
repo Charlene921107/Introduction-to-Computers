{
  "nbformat": 4,
  "nbformat_minor": 0,
  "metadata": {
    "colab": {
      "provenance": [],
      "authorship_tag": "ABX9TyOVMQ8oJq1IClCaCGy3HrFM",
      "include_colab_link": true
    },
    "kernelspec": {
      "name": "python3",
      "display_name": "Python 3"
    },
    "language_info": {
      "name": "python"
    }
  },
  "cells": [
    {
      "cell_type": "markdown",
      "metadata": {
        "id": "view-in-github",
        "colab_type": "text"
      },
      "source": [
        "<a href=\"https://colab.research.google.com/github/Charlene921107/Introduction-to-Computers/blob/main/0517.ipynb\" target=\"_parent\"><img src=\"https://colab.research.google.com/assets/colab-badge.svg\" alt=\"Open In Colab\"/></a>"
      ]
    },
    {
      "cell_type": "code",
      "execution_count": 1,
      "metadata": {
        "colab": {
          "base_uri": "https://localhost:8080/"
        },
        "id": "QZijZ-ssxy9M",
        "outputId": "5cd46bbd-0025-4b33-f5ed-ea3405f58cfa"
      },
      "outputs": [
        {
          "output_type": "stream",
          "name": "stdout",
          "text": [
            "score:78\n",
            "Grade is:C\n"
          ]
        }
      ],
      "source": [
        "score = int(input(\"score:\"))\n",
        "if score >= 90:\n",
        "  print('Grade is:A')\n",
        "elif score >= 80:\n",
        "  print('Grade is:B')\n",
        "elif score >= 70:\n",
        "  print('Grade is:C')\n",
        "elif score >= 60:\n",
        "  print('Grade is:D')\n",
        "else:\n",
        "  print('Grade is:F')"
      ]
    },
    {
      "cell_type": "code",
      "source": [
        "rain = str(input(\"今天會下雨嗎?\"))\n",
        "if(rain==\"Y\" or rain==\"y\"):\n",
        "  print(\"出門記得帶傘!\")\n",
        "elif(rain==\"N\" or rain==\"n\"):\n",
        "  print(\"今天不用帶傘!\")\n",
        "else:\n",
        "  print(\"請重新輸入\")"
      ],
      "metadata": {
        "colab": {
          "base_uri": "https://localhost:8080/"
        },
        "id": "71MyUeCZ0QeJ",
        "outputId": "16fd7597-61e1-4ffc-900c-c6df41e704e3"
      },
      "execution_count": 2,
      "outputs": [
        {
          "output_type": "stream",
          "name": "stdout",
          "text": [
            "今天會下雨嗎?d\n",
            "請重新輸入\n"
          ]
        }
      ]
    },
    {
      "cell_type": "code",
      "source": [
        "t = int(input(\"請輸入溫度:\"))\n",
        "if t >= 37.5:\n",
        "  print(\"體溫過高!\")\n",
        "elif(t>=37 and t<=37.4):\n",
        "  print(\"體溫略高\")\n",
        "elif(t>=34 and t<=36.9):\n",
        "  print(\"體溫正常\")\n",
        "else:\n",
        "  print(\"體溫異常，請重新量測\")"
      ],
      "metadata": {
        "colab": {
          "base_uri": "https://localhost:8080/"
        },
        "id": "vN_8suAe1g9C",
        "outputId": "a4e73a26-66ef-4a52-db74-3cb9cb1dfc2a"
      },
      "execution_count": 3,
      "outputs": [
        {
          "output_type": "stream",
          "name": "stdout",
          "text": [
            "請輸入溫度:38\n",
            "體溫過高!\n"
          ]
        }
      ]
    },
    {
      "cell_type": "code",
      "source": [
        "score = int(input(\"請輸入分數:\"))\n",
        "if score >= 90:\n",
        "  print('Grade is:A')\n",
        "elif score >= 80:\n",
        "  print('Grade is:B')\n",
        "elif score >= 70:\n",
        "  print('Grade is:C')\n",
        "elif score >= 60:\n",
        "  print('Grade is:D')\n",
        "else:\n",
        "  print('Grade is:E')"
      ],
      "metadata": {
        "colab": {
          "base_uri": "https://localhost:8080/"
        },
        "id": "8ptWJS2M2r5-",
        "outputId": "d5a9a596-9e3b-4a05-81ef-4ac080187c35"
      },
      "execution_count": 4,
      "outputs": [
        {
          "output_type": "stream",
          "name": "stdout",
          "text": [
            "請輸入分數:60\n",
            "Grade is:D\n"
          ]
        }
      ]
    },
    {
      "cell_type": "code",
      "source": [
        "month = int(input(\"請輸入月份:\"))\n",
        "if month >= 3 and month <= 5:\n",
        "  print(\"春季\")\n",
        "elif month >= 6 and month <= 8:\n",
        "  print(\"夏季\")\n",
        "elif month >= 9 and month <= 11:\n",
        "  print(\"秋季\")\n",
        "elif month == 1 and 2 and 12:\n",
        "  print(\"冬季\")\n",
        "else:\n",
        "  print(\"月份不再範圍內\")"
      ],
      "metadata": {
        "colab": {
          "base_uri": "https://localhost:8080/"
        },
        "id": "erTnh4Md3Baw",
        "outputId": "f651ddd9-c528-4eaf-c706-075a34a7fdb2"
      },
      "execution_count": 10,
      "outputs": [
        {
          "output_type": "stream",
          "name": "stdout",
          "text": [
            "請輸入月份:1\n",
            "冬季\n"
          ]
        }
      ]
    },
    {
      "cell_type": "code",
      "source": [
        "r = int(input(\"請輸入今年收入淨額:\"))\n",
        "if r >= 2000000:\n",
        "  print(\"付稅金額:\",r*0.3,\"元\")\n",
        "elif r >= 1000000:\n",
        "  print(\"付稅金額:\",r*0.21,\"元\")\n",
        "elif r >= 600000:\n",
        "  print(\"付稅金額:\",r*0.13,\"元\")\n",
        "elif r>= 300000:\n",
        "  print(\"付稅金額:\",r*0.06,\"元\")\n",
        "else:\n",
        "  print(\"付稅金額:0元\")"
      ],
      "metadata": {
        "colab": {
          "base_uri": "https://localhost:8080/"
        },
        "id": "lntaHByW3jaa",
        "outputId": "ed87bd11-6b3e-4533-bfbb-a255e29fc872"
      },
      "execution_count": 11,
      "outputs": [
        {
          "output_type": "stream",
          "name": "stdout",
          "text": [
            "請輸入今年收入淨額:35867435\n",
            "付稅金額: 10760230.5 元\n"
          ]
        }
      ]
    },
    {
      "cell_type": "code",
      "source": [],
      "metadata": {
        "id": "B9dFBdv37XKJ"
      },
      "execution_count": 11,
      "outputs": []
    }
  ]
}